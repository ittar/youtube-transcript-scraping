{
 "cells": [
  {
   "cell_type": "code",
   "execution_count": 7,
   "metadata": {},
   "outputs": [],
   "source": [
    "import json\n",
    "\n",
    "\n",
    "import json\n",
    "from urllib.parse import urlparse, parse_qs\n",
    "\n",
    "def get_video_id(url):\n",
    "    parsed_url = urlparse(url)\n",
    "    query_params = parse_qs(parsed_url.query)\n",
    "    return query_params.get('v', [None])[0]  # Get the video ID or return None\n",
    "\n",
    "def dump_json(channel):\n",
    "    # Read the file content\n",
    "    with open(f'all_transcript/{channel}/youtube_urls.txt', 'r', encoding='utf-8') as file:\n",
    "        lines = file.readlines()\n",
    "\n",
    "    # Initialize a dictionary to store unique video entries (keyed by Title)\n",
    "    unique_videos = {}\n",
    "\n",
    "    # Process each line\n",
    "    for line in lines:\n",
    "        try:\n",
    "            # Parse the line into a dictionary\n",
    "            video = json.loads(line.strip())\n",
    "            title = video['Title']\n",
    "            # If the Title is not already in the dictionary and it's not empty, add it\n",
    "            if title not in unique_videos and title != \"\":\n",
    "                unique_videos[title] = get_video_id(video['URL'])\n",
    "        except json.JSONDecodeError as e:\n",
    "            print(f\"Error parsing line: {line.strip()} - {e}\")\n",
    "\n",
    "    # Dump unique_videos dictionary into a JSON file\n",
    "    with open(f'{channel}/unique_videos.json', 'w', encoding='utf-8') as json_file:\n",
    "        json.dump(unique_videos, json_file, ensure_ascii=False, indent=4)\n",
    "\n",
    "    print(f\"Dumped {len(unique_videos)} unique videos to 'unique_videos.json'\")"
   ]
  },
  {
   "cell_type": "code",
   "execution_count": 11,
   "metadata": {},
   "outputs": [
    {
     "name": "stdout",
     "output_type": "stream",
     "text": [
      "Dumped 484 unique videos to 'unique_videos.json'\n"
     ]
    }
   ],
   "source": [
    "dump_json('ted-ed')"
   ]
  },
  {
   "cell_type": "code",
   "execution_count": null,
   "metadata": {},
   "outputs": [],
   "source": []
  }
 ],
 "metadata": {
  "kernelspec": {
   "display_name": "youtube",
   "language": "python",
   "name": "python3"
  },
  "language_info": {
   "codemirror_mode": {
    "name": "ipython",
    "version": 3
   },
   "file_extension": ".py",
   "mimetype": "text/x-python",
   "name": "python",
   "nbconvert_exporter": "python",
   "pygments_lexer": "ipython3",
   "version": "3.12.7"
  }
 },
 "nbformat": 4,
 "nbformat_minor": 2
}
