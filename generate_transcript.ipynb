{
 "cells": [
  {
   "cell_type": "code",
   "execution_count": 1,
   "metadata": {},
   "outputs": [],
   "source": [
    "from youtube_transcript_api import YouTubeTranscriptApi\n",
    "from youtube_transcript_api._errors import CouldNotRetrieveTranscript\n",
    "import json\n",
    "import os"
   ]
  },
  {
   "cell_type": "code",
   "execution_count": 2,
   "metadata": {},
   "outputs": [],
   "source": [
    "def get_transcripts(video_id, is_generated=False):\n",
    "    transcripts = dict()\n",
    "    languages = ['en', 'th']\n",
    "    try:\n",
    "        # List all available transcripts for the video\n",
    "        transcript_list = YouTubeTranscriptApi.list_transcripts(video_id)\n",
    "        \n",
    "        # Iterate over all available transcripts\n",
    "        for transcript in transcript_list:\n",
    "            try:\n",
    "                # Fetch the transcript if it matches the `is_generated` flag\n",
    "                if transcript.is_generated == is_generated and transcript.language_code.strip() in languages:\n",
    "                    tr = YouTubeTranscriptApi.get_transcript(video_id, languages=[transcript.language_code])\n",
    "                    transcripts[transcript.language_code] = tr\n",
    "            except Exception as e:\n",
    "                print(f\"Error fetching transcript for video ID {video_id} in language {transcript.language_code}: {e}\")\n",
    "\n",
    "    except CouldNotRetrieveTranscript as e:\n",
    "        print(f\"Transcript could not be retrieved for video ID {video_id}: {e}\")\n",
    "    except Exception as e:\n",
    "        print(f\"An error occurred while processing video ID {video_id}: {e}\")\n",
    "\n",
    "    return transcripts\n"
   ]
  },
  {
   "cell_type": "code",
   "execution_count": 3,
   "metadata": {},
   "outputs": [],
   "source": [
    "def dump_transcript(channel):\n",
    "    os.makedirs(f'all_transcript', exist_ok=True)\n",
    "    os.makedirs(f'all_transcript/{channel}', exist_ok=True)\n",
    "    os.makedirs(f'all_transcript/{channel}/transcripts', exist_ok=True)\n",
    "    json_file_path = f'all_transcript/{channel}/unique_videos.json'\n",
    "\n",
    "    # Read the JSON file\n",
    "    with open(json_file_path, 'r', encoding='utf-8') as json_file:\n",
    "        unique_videos = json.load(json_file)\n",
    "\n",
    "    # Initialize a list to store data with title, video_id, and transcript\n",
    "    # Process each video\n",
    "    for title, video_id in unique_videos.items():\n",
    "        tr = get_transcripts(video_id=video_id)  # Assuming get_transcripts function returns the transcript\n",
    "        video_data = {\n",
    "        'title': title,\n",
    "        'video_id': video_id,\n",
    "        'transcript': tr\n",
    "        }\n",
    "        output_file_path = f'all_transcript/{channel}/transcripts/{video_id}.json'\n",
    "        with open(output_file_path, 'w', encoding='utf-8') as output_file:\n",
    "            json.dump(video_data, output_file, ensure_ascii=False, indent=4)\n",
    "\n",
    "    print(f\"Transcripts saved\")"
   ]
  },
  {
   "cell_type": "code",
   "execution_count": 4,
   "metadata": {},
   "outputs": [
    {
     "name": "stdout",
     "output_type": "stream",
     "text": [
      "Error fetching transcript for video ID LBALm7CeEG4 in language th: no element found: line 1, column 0\n",
      "Error fetching transcript for video ID 9sNpMb4M7XM in language en: no element found: line 1, column 0\n",
      "Error fetching transcript for video ID deNGkzUlhZU in language en: no element found: line 1, column 0\n",
      "Error fetching transcript for video ID QkZCPMVgR4g in language en: no element found: line 1, column 0\n",
      "Transcripts saved\n"
     ]
    }
   ],
   "source": [
    "dump_transcript('ted-ed')"
   ]
  }
 ],
 "metadata": {
  "kernelspec": {
   "display_name": "youtube",
   "language": "python",
   "name": "python3"
  },
  "language_info": {
   "codemirror_mode": {
    "name": "ipython",
    "version": 3
   },
   "file_extension": ".py",
   "mimetype": "text/x-python",
   "name": "python",
   "nbconvert_exporter": "python",
   "pygments_lexer": "ipython3",
   "version": "3.12.7"
  }
 },
 "nbformat": 4,
 "nbformat_minor": 2
}
